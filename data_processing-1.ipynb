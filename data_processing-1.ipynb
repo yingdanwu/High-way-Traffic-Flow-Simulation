{
 "cells": [
  {
   "cell_type": "code",
   "execution_count": 1,
   "metadata": {},
   "outputs": [],
   "source": [
    "import pandas as pd\n",
    "import numpy as np\n",
    "import matplotlib.pyplot as plt\n",
    "from scipy import stats"
   ]
  },
  {
   "cell_type": "code",
   "execution_count": 2,
   "metadata": {},
   "outputs": [],
   "source": [
    "traject = pd.read_csv('vehicle-trajectory-data/0750am-0805am/trajectories-0750am-0805am.csv')"
   ]
  },
  {
   "cell_type": "code",
   "execution_count": 3,
   "metadata": {
    "scrolled": false
   },
   "outputs": [
    {
     "data": {
      "text/html": [
       "<div>\n",
       "<style scoped>\n",
       "    .dataframe tbody tr th:only-of-type {\n",
       "        vertical-align: middle;\n",
       "    }\n",
       "\n",
       "    .dataframe tbody tr th {\n",
       "        vertical-align: top;\n",
       "    }\n",
       "\n",
       "    .dataframe thead th {\n",
       "        text-align: right;\n",
       "    }\n",
       "</style>\n",
       "<table border=\"1\" class=\"dataframe\">\n",
       "  <thead>\n",
       "    <tr style=\"text-align: right;\">\n",
       "      <th></th>\n",
       "      <th>Vehicle_ID</th>\n",
       "      <th>Frame_ID</th>\n",
       "      <th>Total_Frames</th>\n",
       "      <th>Global_Time</th>\n",
       "      <th>Local_X</th>\n",
       "      <th>Local_Y</th>\n",
       "      <th>Global_X</th>\n",
       "      <th>Global_Y</th>\n",
       "      <th>v_Length</th>\n",
       "      <th>v_Width</th>\n",
       "      <th>v_Class</th>\n",
       "      <th>v_Vel</th>\n",
       "      <th>v_Acc</th>\n",
       "      <th>Lane_ID</th>\n",
       "      <th>Preceeding</th>\n",
       "      <th>Following</th>\n",
       "      <th>Space_Hdwy</th>\n",
       "      <th>Time_Hdwy</th>\n",
       "    </tr>\n",
       "  </thead>\n",
       "  <tbody>\n",
       "    <tr>\n",
       "      <th>0</th>\n",
       "      <td>2</td>\n",
       "      <td>13</td>\n",
       "      <td>437</td>\n",
       "      <td>1118846980200</td>\n",
       "      <td>16.467</td>\n",
       "      <td>35.381</td>\n",
       "      <td>6451137.641</td>\n",
       "      <td>1873344.962</td>\n",
       "      <td>14.5</td>\n",
       "      <td>4.9</td>\n",
       "      <td>2</td>\n",
       "      <td>40.00</td>\n",
       "      <td>0.00</td>\n",
       "      <td>2</td>\n",
       "      <td>0</td>\n",
       "      <td>0</td>\n",
       "      <td>0.00</td>\n",
       "      <td>0.00</td>\n",
       "    </tr>\n",
       "    <tr>\n",
       "      <th>1</th>\n",
       "      <td>2</td>\n",
       "      <td>14</td>\n",
       "      <td>437</td>\n",
       "      <td>1118846980300</td>\n",
       "      <td>16.447</td>\n",
       "      <td>39.381</td>\n",
       "      <td>6451140.329</td>\n",
       "      <td>1873342.000</td>\n",
       "      <td>14.5</td>\n",
       "      <td>4.9</td>\n",
       "      <td>2</td>\n",
       "      <td>40.00</td>\n",
       "      <td>0.00</td>\n",
       "      <td>2</td>\n",
       "      <td>0</td>\n",
       "      <td>0</td>\n",
       "      <td>0.00</td>\n",
       "      <td>0.00</td>\n",
       "    </tr>\n",
       "    <tr>\n",
       "      <th>2</th>\n",
       "      <td>2</td>\n",
       "      <td>15</td>\n",
       "      <td>437</td>\n",
       "      <td>1118846980400</td>\n",
       "      <td>16.426</td>\n",
       "      <td>43.381</td>\n",
       "      <td>6451143.018</td>\n",
       "      <td>1873339.038</td>\n",
       "      <td>14.5</td>\n",
       "      <td>4.9</td>\n",
       "      <td>2</td>\n",
       "      <td>40.00</td>\n",
       "      <td>0.00</td>\n",
       "      <td>2</td>\n",
       "      <td>0</td>\n",
       "      <td>0</td>\n",
       "      <td>0.00</td>\n",
       "      <td>0.00</td>\n",
       "    </tr>\n",
       "    <tr>\n",
       "      <th>3</th>\n",
       "      <td>2</td>\n",
       "      <td>16</td>\n",
       "      <td>437</td>\n",
       "      <td>1118846980500</td>\n",
       "      <td>16.405</td>\n",
       "      <td>47.380</td>\n",
       "      <td>6451145.706</td>\n",
       "      <td>1873336.077</td>\n",
       "      <td>14.5</td>\n",
       "      <td>4.9</td>\n",
       "      <td>2</td>\n",
       "      <td>40.00</td>\n",
       "      <td>0.00</td>\n",
       "      <td>2</td>\n",
       "      <td>0</td>\n",
       "      <td>0</td>\n",
       "      <td>0.00</td>\n",
       "      <td>0.00</td>\n",
       "    </tr>\n",
       "    <tr>\n",
       "      <th>4</th>\n",
       "      <td>2</td>\n",
       "      <td>17</td>\n",
       "      <td>437</td>\n",
       "      <td>1118846980600</td>\n",
       "      <td>16.385</td>\n",
       "      <td>51.381</td>\n",
       "      <td>6451148.395</td>\n",
       "      <td>1873333.115</td>\n",
       "      <td>14.5</td>\n",
       "      <td>4.9</td>\n",
       "      <td>2</td>\n",
       "      <td>40.00</td>\n",
       "      <td>0.00</td>\n",
       "      <td>2</td>\n",
       "      <td>0</td>\n",
       "      <td>0</td>\n",
       "      <td>0.00</td>\n",
       "      <td>0.00</td>\n",
       "    </tr>\n",
       "    <tr>\n",
       "      <th>...</th>\n",
       "      <td>...</td>\n",
       "      <td>...</td>\n",
       "      <td>...</td>\n",
       "      <td>...</td>\n",
       "      <td>...</td>\n",
       "      <td>...</td>\n",
       "      <td>...</td>\n",
       "      <td>...</td>\n",
       "      <td>...</td>\n",
       "      <td>...</td>\n",
       "      <td>...</td>\n",
       "      <td>...</td>\n",
       "      <td>...</td>\n",
       "      <td>...</td>\n",
       "      <td>...</td>\n",
       "      <td>...</td>\n",
       "      <td>...</td>\n",
       "      <td>...</td>\n",
       "    </tr>\n",
       "    <tr>\n",
       "      <th>1048570</th>\n",
       "      <td>2783</td>\n",
       "      <td>8698</td>\n",
       "      <td>760</td>\n",
       "      <td>1118847848700</td>\n",
       "      <td>55.108</td>\n",
       "      <td>1901.744</td>\n",
       "      <td>6452497.662</td>\n",
       "      <td>1872062.617</td>\n",
       "      <td>17.5</td>\n",
       "      <td>5.4</td>\n",
       "      <td>2</td>\n",
       "      <td>35.64</td>\n",
       "      <td>-3.67</td>\n",
       "      <td>5</td>\n",
       "      <td>2775</td>\n",
       "      <td>2808</td>\n",
       "      <td>51.11</td>\n",
       "      <td>1.43</td>\n",
       "    </tr>\n",
       "    <tr>\n",
       "      <th>1048571</th>\n",
       "      <td>2783</td>\n",
       "      <td>8699</td>\n",
       "      <td>760</td>\n",
       "      <td>1118847848800</td>\n",
       "      <td>55.032</td>\n",
       "      <td>1905.296</td>\n",
       "      <td>6452500.375</td>\n",
       "      <td>1872060.416</td>\n",
       "      <td>17.5</td>\n",
       "      <td>5.4</td>\n",
       "      <td>2</td>\n",
       "      <td>35.33</td>\n",
       "      <td>-3.67</td>\n",
       "      <td>5</td>\n",
       "      <td>2775</td>\n",
       "      <td>2808</td>\n",
       "      <td>51.26</td>\n",
       "      <td>1.45</td>\n",
       "    </tr>\n",
       "    <tr>\n",
       "      <th>1048572</th>\n",
       "      <td>2783</td>\n",
       "      <td>8700</td>\n",
       "      <td>760</td>\n",
       "      <td>1118847848900</td>\n",
       "      <td>55.044</td>\n",
       "      <td>1908.787</td>\n",
       "      <td>6452503.036</td>\n",
       "      <td>1872058.143</td>\n",
       "      <td>17.5</td>\n",
       "      <td>5.4</td>\n",
       "      <td>2</td>\n",
       "      <td>35.09</td>\n",
       "      <td>-0.48</td>\n",
       "      <td>5</td>\n",
       "      <td>2775</td>\n",
       "      <td>2808</td>\n",
       "      <td>51.49</td>\n",
       "      <td>1.47</td>\n",
       "    </tr>\n",
       "    <tr>\n",
       "      <th>1048573</th>\n",
       "      <td>2783</td>\n",
       "      <td>8701</td>\n",
       "      <td>760</td>\n",
       "      <td>1118847849000</td>\n",
       "      <td>55.133</td>\n",
       "      <td>1912.289</td>\n",
       "      <td>6452505.651</td>\n",
       "      <td>1872055.808</td>\n",
       "      <td>17.5</td>\n",
       "      <td>5.4</td>\n",
       "      <td>2</td>\n",
       "      <td>35.05</td>\n",
       "      <td>0.00</td>\n",
       "      <td>5</td>\n",
       "      <td>2775</td>\n",
       "      <td>2808</td>\n",
       "      <td>51.71</td>\n",
       "      <td>1.48</td>\n",
       "    </tr>\n",
       "    <tr>\n",
       "      <th>1048574</th>\n",
       "      <td>2783</td>\n",
       "      <td>8702</td>\n",
       "      <td>760</td>\n",
       "      <td>1118847849100</td>\n",
       "      <td>55.168</td>\n",
       "      <td>1915.808</td>\n",
       "      <td>6452508.307</td>\n",
       "      <td>1872053.510</td>\n",
       "      <td>17.5</td>\n",
       "      <td>5.4</td>\n",
       "      <td>2</td>\n",
       "      <td>34.92</td>\n",
       "      <td>-2.17</td>\n",
       "      <td>5</td>\n",
       "      <td>2775</td>\n",
       "      <td>2808</td>\n",
       "      <td>51.90</td>\n",
       "      <td>1.49</td>\n",
       "    </tr>\n",
       "  </tbody>\n",
       "</table>\n",
       "<p>1048575 rows × 18 columns</p>\n",
       "</div>"
      ],
      "text/plain": [
       "         Vehicle_ID  Frame_ID  Total_Frames    Global_Time  Local_X   Local_Y  \\\n",
       "0                 2        13           437  1118846980200   16.467    35.381   \n",
       "1                 2        14           437  1118846980300   16.447    39.381   \n",
       "2                 2        15           437  1118846980400   16.426    43.381   \n",
       "3                 2        16           437  1118846980500   16.405    47.380   \n",
       "4                 2        17           437  1118846980600   16.385    51.381   \n",
       "...             ...       ...           ...            ...      ...       ...   \n",
       "1048570        2783      8698           760  1118847848700   55.108  1901.744   \n",
       "1048571        2783      8699           760  1118847848800   55.032  1905.296   \n",
       "1048572        2783      8700           760  1118847848900   55.044  1908.787   \n",
       "1048573        2783      8701           760  1118847849000   55.133  1912.289   \n",
       "1048574        2783      8702           760  1118847849100   55.168  1915.808   \n",
       "\n",
       "            Global_X     Global_Y  v_Length  v_Width  v_Class  v_Vel  v_Acc  \\\n",
       "0        6451137.641  1873344.962      14.5      4.9        2  40.00   0.00   \n",
       "1        6451140.329  1873342.000      14.5      4.9        2  40.00   0.00   \n",
       "2        6451143.018  1873339.038      14.5      4.9        2  40.00   0.00   \n",
       "3        6451145.706  1873336.077      14.5      4.9        2  40.00   0.00   \n",
       "4        6451148.395  1873333.115      14.5      4.9        2  40.00   0.00   \n",
       "...              ...          ...       ...      ...      ...    ...    ...   \n",
       "1048570  6452497.662  1872062.617      17.5      5.4        2  35.64  -3.67   \n",
       "1048571  6452500.375  1872060.416      17.5      5.4        2  35.33  -3.67   \n",
       "1048572  6452503.036  1872058.143      17.5      5.4        2  35.09  -0.48   \n",
       "1048573  6452505.651  1872055.808      17.5      5.4        2  35.05   0.00   \n",
       "1048574  6452508.307  1872053.510      17.5      5.4        2  34.92  -2.17   \n",
       "\n",
       "         Lane_ID  Preceeding  Following  Space_Hdwy  Time_Hdwy  \n",
       "0              2           0          0        0.00       0.00  \n",
       "1              2           0          0        0.00       0.00  \n",
       "2              2           0          0        0.00       0.00  \n",
       "3              2           0          0        0.00       0.00  \n",
       "4              2           0          0        0.00       0.00  \n",
       "...          ...         ...        ...         ...        ...  \n",
       "1048570        5        2775       2808       51.11       1.43  \n",
       "1048571        5        2775       2808       51.26       1.45  \n",
       "1048572        5        2775       2808       51.49       1.47  \n",
       "1048573        5        2775       2808       51.71       1.48  \n",
       "1048574        5        2775       2808       51.90       1.49  \n",
       "\n",
       "[1048575 rows x 18 columns]"
      ]
     },
     "execution_count": 3,
     "metadata": {},
     "output_type": "execute_result"
    }
   ],
   "source": [
    "traject # show the dataset"
   ]
  },
  {
   "cell_type": "code",
   "execution_count": 4,
   "metadata": {},
   "outputs": [
    {
     "data": {
      "text/plain": [
       "<matplotlib.axes._subplots.AxesSubplot at 0x10d3975d0>"
      ]
     },
     "execution_count": 4,
     "metadata": {},
     "output_type": "execute_result"
    },
    {
     "data": {
      "image/png": "[encoded data removed]",
      "text/plain": [
       "<Figure size 432x288 with 1 Axes>"
      ]
     },
     "metadata": {
      "needs_background": "light"
     },
     "output_type": "display_data"
    }
   ],
   "source": [
    "# investigate lengths and velocity of cars\n",
    "\n",
    "# traject.v_Length.hist(bins=20)\n",
    "traject.v_Vel.hist(bins=20)"
   ]
  },
  {
   "cell_type": "code",
   "execution_count": 5,
   "metadata": {},
   "outputs": [
    {
     "data": {
      "text/plain": [
       "1993"
      ]
     },
     "execution_count": 5,
     "metadata": {},
     "output_type": "execute_result"
    }
   ],
   "source": [
    "# count number of cars showed up during this 15 mins period\n",
    "\n",
    "traject.Vehicle_ID.nunique()"
   ]
  },
  {
   "cell_type": "code",
   "execution_count": 6,
   "metadata": {},
   "outputs": [
    {
     "name": "stdout",
     "output_type": "stream",
     "text": [
      "Average is  0.4062248995983936\n",
      "Median is  0.3\n"
     ]
    },
    {
     "data": {
      "image/png": "[encoded data removed]",
      "text/plain": [
       "<Figure size 432x288 with 1 Axes>"
      ]
     },
     "metadata": {
      "needs_background": "light"
     },
     "output_type": "display_data"
    }
   ],
   "source": [
    "# find the time intervals between every two car-entries (presumably an exponential distribution); in unit of second\n",
    "# this time interval will be used for simulation\n",
    "\n",
    "subq = traject.groupby('Vehicle_ID').min() # find the entry time of each car\n",
    "\n",
    "car_entry_time = subq.sort_values('Global_Time').Global_Time\n",
    "\n",
    "car_entry_time = np.array(car_entry_time)\n",
    "\n",
    "interval_bwt_cars = np.zeros((len(car_entry_time)-1,1))\n",
    "\n",
    "for i in range(len(car_entry_time)-1):\n",
    "    interval_bwt_cars[i] = (car_entry_time[i+1] - car_entry_time[i])/1000 # converted to seconds by dividing 1000\n",
    "\n",
    "plt.hist(interval_bwt_cars,bins = 60) \n",
    "plt.xlim([0,1.5])\n",
    "\n",
    "print('Average is ',np.mean(interval_bwt_cars))\n",
    "print('Median is ', np.median(interval_bwt_cars))\n",
    "\n",
    "# plt.savefig('Time_distribution.png',dpi=2000)"
   ]
  },
  {
   "cell_type": "code",
   "execution_count": 7,
   "metadata": {
    "scrolled": false
   },
   "outputs": [
    {
     "data": {
      "text/plain": [
       "[<matplotlib.lines.Line2D at 0x1a22226510>]"
      ]
     },
     "execution_count": 7,
     "metadata": {},
     "output_type": "execute_result"
    },
    {
     "data": {
      "image/png": "[encoded data removed]",
      "text/plain": [
       "<Figure size 360x360 with 1 Axes>"
      ]
     },
     "metadata": {
      "needs_background": "light"
     },
     "output_type": "display_data"
    },
    {
     "data": {
      "image/png": "[encoded data removed]",
      "text/plain": [
       "<Figure size 720x360 with 2 Axes>"
      ]
     },
     "metadata": {
      "needs_background": "light"
     },
     "output_type": "display_data"
    }
   ],
   "source": [
    "# finding the functional relationship between x = number of cars on road and y = average speed\n",
    "\n",
    "# The total length of the road is 2100 feet.\n",
    "\n",
    "\n",
    "# truncation of the raw dataset\n",
    "traject_m = traject.sort_values('Global_Time')\n",
    "\n",
    "traject_m = traject_m[200000:800000]\n",
    "\n",
    "# compute the average speed and number of cars for each second\n",
    "avg_speed = traject_m.groupby(np.floor(traject_m.Global_Time/1000.0/1)*1000*1).mean().v_Vel # in unit of feet/second\n",
    "avg_speed = avg_speed * 0.681818 # to miles per hour\n",
    "\n",
    "# line below finds number of cars on the 2100 feet road\n",
    "\n",
    "num_of_cars_p = traject_m.groupby(np.floor(traject_m.Global_Time/1000.0/1)*1000*10).Vehicle_ID.nunique() # for later computation\n",
    "# num_of_cars_p /= 10\n",
    "\n",
    "num_of_cars = traject_m.groupby(np.floor(traject_m.Global_Time/1000.0/1)*1000*1).Vehicle_ID.nunique()\n",
    "\n",
    "num_of_cars = num_of_cars / 2100 * 5280 # conversion of # of cars.\n",
    "# divided by the length of the road, thus becomes # of cars per ft. Times 5280 to per mile.\n",
    "\n",
    "\n",
    "v_vs_num = pd.merge(avg_speed,num_of_cars,how='inner',left_on='Global_Time',right_on='Global_Time')\n",
    "\n",
    "# modified_average = v_vs_num.groupby(v_vs_num.Vehicle_ID).median()\n",
    "\n",
    "# visualization\n",
    "plt.figure(figsize = (5,5))\n",
    "plt.plot(v_vs_num.Vehicle_ID,v_vs_num.v_Vel,'.r')\n",
    "plt.xlabel('number of cars in 1 mile')\n",
    "plt.ylabel('average speed of cars miles/hour')\n",
    "\n",
    "plt.figure(figsize = (10,5))\n",
    "plt.subplot(1,2,1)\n",
    "plt.plot(avg_speed)\n",
    "plt.subplot(1,2,2)\n",
    "plt.plot(num_of_cars)"
   ]
  },
  {
   "cell_type": "code",
   "execution_count": 8,
   "metadata": {},
   "outputs": [
    {
     "name": "stdout",
     "output_type": "stream",
     "text": [
      "Coefficients are  -0.07924458143779052 53.03599730601424\n",
      "p value is  6.440996384838783e-68\n"
     ]
    }
   ],
   "source": [
    "# fit a regression line to the data.\n",
    "\n",
    "x = np.array(num_of_cars)\n",
    "y = np.array(avg_speed)\n",
    "\n",
    "slope, intercept, r_value, p_value, std_err = stats.linregress(x,y)\n",
    "\n",
    "print('Coefficients are ',slope, intercept)\n",
    "\n",
    "print('p value is ', p_value) # check p values."
   ]
  },
  {
   "cell_type": "code",
   "execution_count": 9,
   "metadata": {},
   "outputs": [
    {
     "name": "stdout",
     "output_type": "stream",
     "text": [
      "['The esitmated R^2 is', -0.6866619564248262]\n"
     ]
    },
    {
     "data": {
      "image/png": "[encoded data removed]",
      "text/plain": [
       "<Figure size 432x432 with 1 Axes>"
      ]
     },
     "metadata": {
      "needs_background": "light"
     },
     "output_type": "display_data"
    }
   ],
   "source": [
    "# visualization of fitted line\n",
    "\n",
    "plt.figure(figsize = (6,6))\n",
    "\n",
    "plt.plot(x,y,'.r')\n",
    "\n",
    "plt.plot(x,slope * x + intercept,'--b')\n",
    "\n",
    "print (['The esitmated R^2 is', r_value])\n",
    "\n",
    "# plt.savefig('functional relationship.png',dpi=2000)"
   ]
  },
  {
   "cell_type": "code",
   "execution_count": 10,
   "metadata": {},
   "outputs": [
    {
     "data": {
      "text/plain": [
       "126.0"
      ]
     },
     "execution_count": 10,
     "metadata": {},
     "output_type": "execute_result"
    },
    {
     "data": {
      "image/png": "[encoded data removed]",
      "text/plain": [
       "<Figure size 432x288 with 1 Axes>"
      ]
     },
     "metadata": {
      "needs_background": "light"
     },
     "output_type": "display_data"
    }
   ],
   "source": [
    "# number of cars on road\n",
    "num_of_cars_p.hist(bins=20)\n",
    "num_of_cars_p.to_csv(r'number_of_cars',index=False,header=False)\n",
    "\n",
    "num_of_cars_p.median()"
   ]
  },
  {
   "cell_type": "code",
   "execution_count": null,
   "metadata": {},
   "outputs": [],
   "source": [
    "all_ids = traject.Vehicle_ID.unique();"
   ]
  },
  {
   "cell_type": "code",
   "execution_count": 72,
   "metadata": {},
   "outputs": [
    {
     "data": {
      "image/png": "[encoded data removed]",
      "text/plain": [
       "<Figure size 432x288 with 1 Axes>"
      ]
     },
     "metadata": {
      "needs_background": "light"
     },
     "output_type": "display_data"
    }
   ],
   "source": [
    "# investigate speed variation of an individual car\n",
    "\n",
    "avg_speed = traject[traject.Vehicle_ID == 180].groupby(np.floor(traject.Global_Time/1000.0/1)*1000*1).mean().v_Vel\n",
    "avg_speed = avg_speed * 0.681818 # to miles per hour\n",
    "\n",
    "avg_speed.plot()\n",
    "\n",
    "avg_speed.to_csv(r'average_speed_validation',index=False,header=False)"
   ]
  },
  {
   "cell_type": "code",
   "execution_count": 52,
   "metadata": {},
   "outputs": [
    {
     "data": {
      "text/plain": [
       "50.3"
      ]
     },
     "execution_count": 52,
     "metadata": {},
     "output_type": "execute_result"
    },
    {
     "data": {
      "image/png": "[encoded data removed]",
      "text/plain": [
       "<Figure size 432x288 with 1 Axes>"
      ]
     },
     "metadata": {
      "needs_background": "light"
     },
     "output_type": "display_data"
    }
   ],
   "source": [
    "#\n",
    "\n",
    "travel_time = traject.groupby([np.floor(traject.Global_Time/1000.0/1)*1000*1,traject.Vehicle_ID]).size() \\\n",
    ".groupby('Vehicle_ID').sum()\n",
    "\n",
    "travel_time /= 10\n",
    "\n",
    "# travel_time = traject[traject.Vehicle_ID == 2].groupby(np.floor(traject.Global_Time/1000.0/1)*1000*1).size()\n",
    "\n",
    "travel_time.hist(bins=20)\n",
    "travel_time.median()\n",
    "\n",
    "# travel_time.to_csv(r'travel_time',index=False,header=False)"
   ]
  },
  {
   "cell_type": "code",
   "execution_count": null,
   "metadata": {},
   "outputs": [],
   "source": []
  },
  {
   "cell_type": "code",
   "execution_count": 13,
   "metadata": {},
   "outputs": [],
   "source": [
    "df = pd.read_csv('detector-data/detector-data.csv')"
   ]
  },
  {
   "cell_type": "code",
   "execution_count": 14,
   "metadata": {
    "scrolled": false
   },
   "outputs": [
    {
     "data": {
      "text/html": [
       "<div>\n",
       "<style scoped>\n",
       "    .dataframe tbody tr th:only-of-type {\n",
       "        vertical-align: middle;\n",
       "    }\n",
       "\n",
       "    .dataframe tbody tr th {\n",
       "        vertical-align: top;\n",
       "    }\n",
       "\n",
       "    .dataframe thead th {\n",
       "        text-align: right;\n",
       "    }\n",
       "</style>\n",
       "<table border=\"1\" class=\"dataframe\">\n",
       "  <thead>\n",
       "    <tr style=\"text-align: right;\">\n",
       "      <th></th>\n",
       "      <th>Station</th>\n",
       "      <th>Date</th>\n",
       "      <th>Local_Time</th>\n",
       "      <th>Global_Time</th>\n",
       "      <th>V1</th>\n",
       "      <th>Occ1</th>\n",
       "      <th>Sp1</th>\n",
       "      <th>V2</th>\n",
       "      <th>Occ2</th>\n",
       "      <th>Sp2</th>\n",
       "      <th>...</th>\n",
       "      <th>Sp3</th>\n",
       "      <th>V4</th>\n",
       "      <th>Occ4</th>\n",
       "      <th>Sp4</th>\n",
       "      <th>V5</th>\n",
       "      <th>Occ5</th>\n",
       "      <th>Sp5</th>\n",
       "      <th>V_avg</th>\n",
       "      <th>Occ_avg</th>\n",
       "      <th>Sp_avg</th>\n",
       "    </tr>\n",
       "  </thead>\n",
       "  <tbody>\n",
       "    <tr>\n",
       "      <th>0</th>\n",
       "      <td>717486</td>\n",
       "      <td>6/8/2005</td>\n",
       "      <td>0:00</td>\n",
       "      <td>1118214000000</td>\n",
       "      <td>0.0</td>\n",
       "      <td>0.0000</td>\n",
       "      <td>76.5</td>\n",
       "      <td>14.0</td>\n",
       "      <td>0.0052</td>\n",
       "      <td>74.0</td>\n",
       "      <td>...</td>\n",
       "      <td>82.0</td>\n",
       "      <td>89.0</td>\n",
       "      <td>0.0381</td>\n",
       "      <td>79.2</td>\n",
       "      <td>54.0</td>\n",
       "      <td>0.0275</td>\n",
       "      <td>74.5</td>\n",
       "      <td>213.0</td>\n",
       "      <td>0.0181</td>\n",
       "      <td>78.4</td>\n",
       "    </tr>\n",
       "    <tr>\n",
       "      <th>1</th>\n",
       "      <td>717486</td>\n",
       "      <td>6/8/2005</td>\n",
       "      <td>0:05</td>\n",
       "      <td>1118214300000</td>\n",
       "      <td>2.0</td>\n",
       "      <td>0.0008</td>\n",
       "      <td>76.9</td>\n",
       "      <td>20.0</td>\n",
       "      <td>0.0078</td>\n",
       "      <td>77.4</td>\n",
       "      <td>...</td>\n",
       "      <td>81.6</td>\n",
       "      <td>83.0</td>\n",
       "      <td>0.0502</td>\n",
       "      <td>74.4</td>\n",
       "      <td>53.0</td>\n",
       "      <td>0.0304</td>\n",
       "      <td>71.8</td>\n",
       "      <td>215.0</td>\n",
       "      <td>0.0226</td>\n",
       "      <td>76.0</td>\n",
       "    </tr>\n",
       "    <tr>\n",
       "      <th>2</th>\n",
       "      <td>717486</td>\n",
       "      <td>6/8/2005</td>\n",
       "      <td>0:10</td>\n",
       "      <td>1118214600000</td>\n",
       "      <td>2.0</td>\n",
       "      <td>0.0008</td>\n",
       "      <td>77.3</td>\n",
       "      <td>17.0</td>\n",
       "      <td>0.0082</td>\n",
       "      <td>76.9</td>\n",
       "      <td>...</td>\n",
       "      <td>78.0</td>\n",
       "      <td>67.0</td>\n",
       "      <td>0.0503</td>\n",
       "      <td>66.3</td>\n",
       "      <td>35.0</td>\n",
       "      <td>0.0217</td>\n",
       "      <td>69.0</td>\n",
       "      <td>168.0</td>\n",
       "      <td>0.0206</td>\n",
       "      <td>71.4</td>\n",
       "    </tr>\n",
       "    <tr>\n",
       "      <th>3</th>\n",
       "      <td>717486</td>\n",
       "      <td>6/8/2005</td>\n",
       "      <td>0:15</td>\n",
       "      <td>1118214900000</td>\n",
       "      <td>0.0</td>\n",
       "      <td>0.0000</td>\n",
       "      <td>77.3</td>\n",
       "      <td>23.0</td>\n",
       "      <td>0.0098</td>\n",
       "      <td>78.6</td>\n",
       "      <td>...</td>\n",
       "      <td>76.6</td>\n",
       "      <td>80.0</td>\n",
       "      <td>0.0449</td>\n",
       "      <td>70.9</td>\n",
       "      <td>40.0</td>\n",
       "      <td>0.0252</td>\n",
       "      <td>66.5</td>\n",
       "      <td>190.0</td>\n",
       "      <td>0.0203</td>\n",
       "      <td>72.3</td>\n",
       "    </tr>\n",
       "    <tr>\n",
       "      <th>4</th>\n",
       "      <td>717486</td>\n",
       "      <td>6/8/2005</td>\n",
       "      <td>0:20</td>\n",
       "      <td>1118215200000</td>\n",
       "      <td>17.0</td>\n",
       "      <td>0.0074</td>\n",
       "      <td>78.0</td>\n",
       "      <td>33.0</td>\n",
       "      <td>0.0156</td>\n",
       "      <td>75.1</td>\n",
       "      <td>...</td>\n",
       "      <td>68.2</td>\n",
       "      <td>29.0</td>\n",
       "      <td>0.0204</td>\n",
       "      <td>66.5</td>\n",
       "      <td>18.0</td>\n",
       "      <td>0.0125</td>\n",
       "      <td>60.6</td>\n",
       "      <td>129.0</td>\n",
       "      <td>0.0147</td>\n",
       "      <td>69.8</td>\n",
       "    </tr>\n",
       "    <tr>\n",
       "      <th>...</th>\n",
       "      <td>...</td>\n",
       "      <td>...</td>\n",
       "      <td>...</td>\n",
       "      <td>...</td>\n",
       "      <td>...</td>\n",
       "      <td>...</td>\n",
       "      <td>...</td>\n",
       "      <td>...</td>\n",
       "      <td>...</td>\n",
       "      <td>...</td>\n",
       "      <td>...</td>\n",
       "      <td>...</td>\n",
       "      <td>...</td>\n",
       "      <td>...</td>\n",
       "      <td>...</td>\n",
       "      <td>...</td>\n",
       "      <td>...</td>\n",
       "      <td>...</td>\n",
       "      <td>...</td>\n",
       "      <td>...</td>\n",
       "      <td>...</td>\n",
       "    </tr>\n",
       "    <tr>\n",
       "      <th>15835</th>\n",
       "      <td>717490</td>\n",
       "      <td>6/22/2005</td>\n",
       "      <td>23:35</td>\n",
       "      <td>1119508500000</td>\n",
       "      <td>NaN</td>\n",
       "      <td>0.0063</td>\n",
       "      <td>80.2</td>\n",
       "      <td>NaN</td>\n",
       "      <td>0.0265</td>\n",
       "      <td>70.9</td>\n",
       "      <td>...</td>\n",
       "      <td>63.6</td>\n",
       "      <td>NaN</td>\n",
       "      <td>0.0748</td>\n",
       "      <td>49.0</td>\n",
       "      <td>NaN</td>\n",
       "      <td>0.0669</td>\n",
       "      <td>46.8</td>\n",
       "      <td>NaN</td>\n",
       "      <td>0.0421</td>\n",
       "      <td>58.3</td>\n",
       "    </tr>\n",
       "    <tr>\n",
       "      <th>15836</th>\n",
       "      <td>717490</td>\n",
       "      <td>6/22/2005</td>\n",
       "      <td>23:40</td>\n",
       "      <td>1119508800000</td>\n",
       "      <td>NaN</td>\n",
       "      <td>0.0087</td>\n",
       "      <td>79.7</td>\n",
       "      <td>NaN</td>\n",
       "      <td>0.0205</td>\n",
       "      <td>73.7</td>\n",
       "      <td>...</td>\n",
       "      <td>65.4</td>\n",
       "      <td>NaN</td>\n",
       "      <td>0.0434</td>\n",
       "      <td>56.4</td>\n",
       "      <td>NaN</td>\n",
       "      <td>0.0557</td>\n",
       "      <td>48.3</td>\n",
       "      <td>NaN</td>\n",
       "      <td>0.0332</td>\n",
       "      <td>62.0</td>\n",
       "    </tr>\n",
       "    <tr>\n",
       "      <th>15837</th>\n",
       "      <td>717490</td>\n",
       "      <td>6/22/2005</td>\n",
       "      <td>23:45</td>\n",
       "      <td>1119509100000</td>\n",
       "      <td>NaN</td>\n",
       "      <td>0.0053</td>\n",
       "      <td>81.6</td>\n",
       "      <td>NaN</td>\n",
       "      <td>0.0208</td>\n",
       "      <td>75.7</td>\n",
       "      <td>...</td>\n",
       "      <td>67.4</td>\n",
       "      <td>NaN</td>\n",
       "      <td>0.0430</td>\n",
       "      <td>63.5</td>\n",
       "      <td>NaN</td>\n",
       "      <td>0.0542</td>\n",
       "      <td>50.0</td>\n",
       "      <td>NaN</td>\n",
       "      <td>0.0313</td>\n",
       "      <td>65.1</td>\n",
       "    </tr>\n",
       "    <tr>\n",
       "      <th>15838</th>\n",
       "      <td>717490</td>\n",
       "      <td>6/22/2005</td>\n",
       "      <td>23:50</td>\n",
       "      <td>1119509400000</td>\n",
       "      <td>NaN</td>\n",
       "      <td>0.0047</td>\n",
       "      <td>80.9</td>\n",
       "      <td>NaN</td>\n",
       "      <td>0.0143</td>\n",
       "      <td>76.7</td>\n",
       "      <td>...</td>\n",
       "      <td>68.4</td>\n",
       "      <td>NaN</td>\n",
       "      <td>0.0376</td>\n",
       "      <td>66.6</td>\n",
       "      <td>NaN</td>\n",
       "      <td>0.0506</td>\n",
       "      <td>50.2</td>\n",
       "      <td>NaN</td>\n",
       "      <td>0.0285</td>\n",
       "      <td>65.6</td>\n",
       "    </tr>\n",
       "    <tr>\n",
       "      <th>15839</th>\n",
       "      <td>717490</td>\n",
       "      <td>6/22/2005</td>\n",
       "      <td>23:55</td>\n",
       "      <td>1119509700000</td>\n",
       "      <td>NaN</td>\n",
       "      <td>0.0098</td>\n",
       "      <td>77.8</td>\n",
       "      <td>NaN</td>\n",
       "      <td>0.0207</td>\n",
       "      <td>78.4</td>\n",
       "      <td>...</td>\n",
       "      <td>65.3</td>\n",
       "      <td>NaN</td>\n",
       "      <td>0.0546</td>\n",
       "      <td>64.0</td>\n",
       "      <td>NaN</td>\n",
       "      <td>0.0609</td>\n",
       "      <td>49.7</td>\n",
       "      <td>NaN</td>\n",
       "      <td>0.0373</td>\n",
       "      <td>64.9</td>\n",
       "    </tr>\n",
       "  </tbody>\n",
       "</table>\n",
       "<p>15840 rows × 22 columns</p>\n",
       "</div>"
      ],
      "text/plain": [
       "       Station       Date Local_Time    Global_Time    V1    Occ1   Sp1    V2  \\\n",
       "0       717486   6/8/2005       0:00  1118214000000   0.0  0.0000  76.5  14.0   \n",
       "1       717486   6/8/2005       0:05  1118214300000   2.0  0.0008  76.9  20.0   \n",
       "2       717486   6/8/2005       0:10  1118214600000   2.0  0.0008  77.3  17.0   \n",
       "3       717486   6/8/2005       0:15  1118214900000   0.0  0.0000  77.3  23.0   \n",
       "4       717486   6/8/2005       0:20  1118215200000  17.0  0.0074  78.0  33.0   \n",
       "...        ...        ...        ...            ...   ...     ...   ...   ...   \n",
       "15835   717490  6/22/2005      23:35  1119508500000   NaN  0.0063  80.2   NaN   \n",
       "15836   717490  6/22/2005      23:40  1119508800000   NaN  0.0087  79.7   NaN   \n",
       "15837   717490  6/22/2005      23:45  1119509100000   NaN  0.0053  81.6   NaN   \n",
       "15838   717490  6/22/2005      23:50  1119509400000   NaN  0.0047  80.9   NaN   \n",
       "15839   717490  6/22/2005      23:55  1119509700000   NaN  0.0098  77.8   NaN   \n",
       "\n",
       "         Occ2   Sp2  ...   Sp3    V4    Occ4   Sp4    V5    Occ5   Sp5  V_avg  \\\n",
       "0      0.0052  74.0  ...  82.0  89.0  0.0381  79.2  54.0  0.0275  74.5  213.0   \n",
       "1      0.0078  77.4  ...  81.6  83.0  0.0502  74.4  53.0  0.0304  71.8  215.0   \n",
       "2      0.0082  76.9  ...  78.0  67.0  0.0503  66.3  35.0  0.0217  69.0  168.0   \n",
       "3      0.0098  78.6  ...  76.6  80.0  0.0449  70.9  40.0  0.0252  66.5  190.0   \n",
       "4      0.0156  75.1  ...  68.2  29.0  0.0204  66.5  18.0  0.0125  60.6  129.0   \n",
       "...       ...   ...  ...   ...   ...     ...   ...   ...     ...   ...    ...   \n",
       "15835  0.0265  70.9  ...  63.6   NaN  0.0748  49.0   NaN  0.0669  46.8    NaN   \n",
       "15836  0.0205  73.7  ...  65.4   NaN  0.0434  56.4   NaN  0.0557  48.3    NaN   \n",
       "15837  0.0208  75.7  ...  67.4   NaN  0.0430  63.5   NaN  0.0542  50.0    NaN   \n",
       "15838  0.0143  76.7  ...  68.4   NaN  0.0376  66.6   NaN  0.0506  50.2    NaN   \n",
       "15839  0.0207  78.4  ...  65.3   NaN  0.0546  64.0   NaN  0.0609  49.7    NaN   \n",
       "\n",
       "       Occ_avg  Sp_avg  \n",
       "0       0.0181    78.4  \n",
       "1       0.0226    76.0  \n",
       "2       0.0206    71.4  \n",
       "3       0.0203    72.3  \n",
       "4       0.0147    69.8  \n",
       "...        ...     ...  \n",
       "15835   0.0421    58.3  \n",
       "15836   0.0332    62.0  \n",
       "15837   0.0313    65.1  \n",
       "15838   0.0285    65.6  \n",
       "15839   0.0373    64.9  \n",
       "\n",
       "[15840 rows x 22 columns]"
      ]
     },
     "execution_count": 14,
     "metadata": {},
     "output_type": "execute_result"
    }
   ],
   "source": [
    "df"
   ]
  },
  {
   "cell_type": "code",
   "execution_count": 15,
   "metadata": {},
   "outputs": [
    {
     "data": {
      "text/plain": [
       "1000.0"
      ]
     },
     "execution_count": 15,
     "metadata": {},
     "output_type": "execute_result"
    }
   ],
   "source": [
    "(df.Global_Time[1] - df.Global_Time[0])/5/60 # 1s corresponds to 1000 units of Global_Time"
   ]
  },
  {
   "cell_type": "code",
   "execution_count": 16,
   "metadata": {},
   "outputs": [],
   "source": [
    "Sp1 = df[df.Date == '6/10/2005'].groupby(['Local_Time']).median().Sp1\n",
    "V1 = df[df.Date == '6/10/2005'].groupby(['Local_Time']).median().V1\n",
    "Occ1 = df[df.Date == '6/10/2005'].groupby(['Local_Time']).median().Occ1"
   ]
  },
  {
   "cell_type": "code",
   "execution_count": 17,
   "metadata": {},
   "outputs": [
    {
     "data": {
      "text/plain": [
       "array([717486, 764766, 717488, 717489, 717490])"
      ]
     },
     "execution_count": 17,
     "metadata": {},
     "output_type": "execute_result"
    }
   ],
   "source": [
    "df.Station.unique()"
   ]
  },
  {
   "cell_type": "code",
   "execution_count": 18,
   "metadata": {},
   "outputs": [
    {
     "data": {
      "text/plain": [
       "<matplotlib.axes._subplots.AxesSubplot at 0x1a23a479d0>"
      ]
     },
     "execution_count": 18,
     "metadata": {},
     "output_type": "execute_result"
    },
    {
     "data": {
      "image/png": "[encoded data removed]",
      "text/plain": [
       "<Figure size 1080x360 with 2 Axes>"
      ]
     },
     "metadata": {
      "needs_background": "light"
     },
     "output_type": "display_data"
    }
   ],
   "source": [
    "# Sp1.plot()\n",
    "# V1.plot()\n",
    "plt.figure(figsize = (15,5))\n",
    "plt.subplot(1,2,1)\n",
    "Occ1.plot()\n",
    "plt.subplot(1,2,2)\n",
    "Sp1.plot()"
   ]
  },
  {
   "cell_type": "code",
   "execution_count": 19,
   "metadata": {},
   "outputs": [
    {
     "data": {
      "text/plain": [
       "288"
      ]
     },
     "execution_count": 19,
     "metadata": {},
     "output_type": "execute_result"
    }
   ],
   "source": [
    "np.size(Occ1)\n",
    "# np.size(Sp1)"
   ]
  },
  {
   "cell_type": "code",
   "execution_count": 20,
   "metadata": {},
   "outputs": [
    {
     "data": {
      "text/plain": [
       "(25.4, 86.5)"
      ]
     },
     "execution_count": 20,
     "metadata": {},
     "output_type": "execute_result"
    },
    {
     "data": {
      "image/png": "[encoded data removed]",
      "text/plain": [
       "<Figure size 432x432 with 1 Axes>"
      ]
     },
     "metadata": {
      "needs_background": "light"
     },
     "output_type": "display_data"
    }
   ],
   "source": [
    "plt.figure(figsize = (6,6))\n",
    "\n",
    "plt.plot(Occ1,Sp1,'.r')\n",
    "\n",
    "plt.xlim(np.min(Occ1),np.max(Occ1))\n",
    "plt.ylim(np.min(Sp1),np.max(Sp1))"
   ]
  },
  {
   "cell_type": "code",
   "execution_count": 21,
   "metadata": {},
   "outputs": [
    {
     "name": "stdout",
     "output_type": "stream",
     "text": [
      "-252.01957921741572 86.5881132287706\n",
      "1.8505953047120196e-120\n"
     ]
    }
   ],
   "source": [
    "x = np.array(Occ1) \n",
    "y = np.array(Sp1)\n",
    "\n",
    "slope, intercept, r_value, p_value, std_err = stats.linregress(x,y)\n",
    "\n",
    "print(slope, intercept)\n",
    "\n",
    "print(p_value)\n"
   ]
  },
  {
   "cell_type": "code",
   "execution_count": 22,
   "metadata": {},
   "outputs": [
    {
     "name": "stdout",
     "output_type": "stream",
     "text": [
      "['The esitmated R^2 is', -0.9227644607730754]\n"
     ]
    },
    {
     "data": {
      "image/png": "[encoded data removed]",
      "text/plain": [
       "<Figure size 432x432 with 1 Axes>"
      ]
     },
     "metadata": {
      "needs_background": "light"
     },
     "output_type": "display_data"
    }
   ],
   "source": [
    "\n",
    "plt.figure(figsize = (6,6))\n",
    "\n",
    "plt.plot(Occ1,Sp1,'.r')\n",
    "\n",
    "plt.plot(Occ1,slope * Occ1 + intercept,'-b')\n",
    "\n",
    "plt.xlim(np.min(Occ1),np.max(Occ1))\n",
    "plt.ylim(np.min(Sp1),np.max(Sp1))\n",
    "\n",
    "print (['The esitmated R^2 is', r_value])\n"
   ]
  },
  {
   "cell_type": "code",
   "execution_count": null,
   "metadata": {},
   "outputs": [],
   "source": []
  },
  {
   "cell_type": "code",
   "execution_count": null,
   "metadata": {},
   "outputs": [],
   "source": []
  }
 ],
 "metadata": {
  "kernelspec": {
   "display_name": "Python 3",
   "language": "python",
   "name": "python3"
  },
  "language_info": {
   "codemirror_mode": {
    "name": "ipython",
    "version": 3
   },
   "file_extension": ".py",
   "mimetype": "text/x-python",
   "name": "python",
   "nbconvert_exporter": "python",
   "pygments_lexer": "ipython3",
   "version": "3.7.4"
  }
 },
 "nbformat": 4,
 "nbformat_minor": 2
}
